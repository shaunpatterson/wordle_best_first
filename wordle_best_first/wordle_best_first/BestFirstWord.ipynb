{
 "cells": [
  {
   "cell_type": "code",
   "execution_count": 215,
   "id": "446af033",
   "metadata": {},
   "outputs": [],
   "source": [
    "import numpy as np\n",
    "import requests"
   ]
  },
  {
   "cell_type": "markdown",
   "id": "1af4e44c",
   "metadata": {},
   "source": [
    "Load up some English words\n",
    "This list was taken from: \n",
    "\n",
    "https://github.com/dwyl/english-words/blob/master/words.txt\n",
    "https://raw.githubusercontent.com/first20hours/google-10000-english/master/google-10000-english-no-swears.txt\n",
    "https://raw.githubusercontent.com/tabatkins/wordle-list/main/words"
   ]
  },
  {
   "cell_type": "code",
   "execution_count": 220,
   "id": "03e3968d",
   "metadata": {},
   "outputs": [
    {
     "data": {
      "text/plain": [
       "12947"
      ]
     },
     "execution_count": 220,
     "metadata": {},
     "output_type": "execute_result"
    }
   ],
   "source": [
    "r = requests.get(\"https://raw.githubusercontent.com/tabatkins/wordle-list/main/words\")\n",
    "words = r.content.decode('utf-8').split()\n",
    "words = [w.lower().strip() for w in words]\n",
    "words = {w for w in words if w.strip().isalpha() and len(w.strip())==5}\n",
    "    \n",
    "len(words)"
   ]
  },
  {
   "cell_type": "code",
   "execution_count": 237,
   "id": "0a696974",
   "metadata": {},
   "outputs": [],
   "source": [
    "words_starting_with_a = [w for w in words if w[0] == 'a']\n",
    "words_starting_with_c = [w for w in words if w[0] == 'c']\n",
    "words_starting_with_s = [w for w in words if w[0] == 's']"
   ]
  },
  {
   "cell_type": "code",
   "execution_count": 235,
   "id": "91fac0c0",
   "metadata": {},
   "outputs": [
    {
     "data": {
      "text/plain": [
       "736"
      ]
     },
     "execution_count": 235,
     "metadata": {},
     "output_type": "execute_result"
    }
   ],
   "source": [
    "len(words_starting_with_a)"
   ]
  },
  {
   "cell_type": "code",
   "execution_count": 236,
   "id": "d4a0f4af",
   "metadata": {},
   "outputs": [
    {
     "data": {
      "text/plain": [
       "920"
      ]
     },
     "execution_count": 236,
     "metadata": {},
     "output_type": "execute_result"
    }
   ],
   "source": [
    "len(words_starting_with_c)"
   ]
  },
  {
   "cell_type": "code",
   "execution_count": 238,
   "id": "b20008bc",
   "metadata": {},
   "outputs": [
    {
     "data": {
      "text/plain": [
       "1560"
      ]
     },
     "execution_count": 238,
     "metadata": {},
     "output_type": "execute_result"
    }
   ],
   "source": [
    "len(words_starting_with_s)"
   ]
  },
  {
   "cell_type": "code",
   "execution_count": 225,
   "id": "b67a5620",
   "metadata": {},
   "outputs": [
    {
     "data": {
      "text/plain": [
       "array([0, 0, 0, 0, 0])"
      ]
     },
     "execution_count": 225,
     "metadata": {},
     "output_type": "execute_result"
    }
   ],
   "source": [
    "# Create a 26x5 matrix.  We'll use this to count the occurence of each letter in each of the 5 positions\n",
    "# index 0 will be 'a', index 1 will 'b'    So we use the ord() function to get the ascii value and subtract off ord('a')\n",
    "counts = np.zeros((26, 5), int)\n",
    "\n",
    "# # 'c' count for each position.      ord('c') - ord('a') = 2\n",
    "counts[2]"
   ]
  },
  {
   "cell_type": "code",
   "execution_count": 229,
   "id": "4c3d3aa1",
   "metadata": {},
   "outputs": [],
   "source": [
    "# Count the occurences for each letter, in each position\n",
    "\n",
    "for w in words:\n",
    "    for position, l in enumerate(w):\n",
    "        letter_val = ord(l) - ord('a')            # so 'a' - 'a' is 0, 'b' - 'a' is 1, etc\n",
    "        counts[letter_val][position] += 1"
   ]
  },
  {
   "cell_type": "code",
   "execution_count": 230,
   "id": "b34c1823",
   "metadata": {},
   "outputs": [
    {
     "data": {
      "text/plain": [
       "array([2, 1, 3, 0])"
      ]
     },
     "execution_count": 230,
     "metadata": {},
     "output_type": "execute_result"
    }
   ],
   "source": [
    "# get the order \n",
    "test = np.array([4, 2, 7, 1])\n",
    "test.argsort()   # -> array([3, 1, 0, 2])\n",
    "\n",
    "# 3 -> 1\n",
    "# 1 -> 2\n",
    "# 0 -> 4\n",
    "# 2 -> 7\n",
    "\n",
    "\n",
    "# Get the rank\n",
    "test.argsort().argsort()"
   ]
  },
  {
   "cell_type": "code",
   "execution_count": 240,
   "id": "ce6b532e",
   "metadata": {},
   "outputs": [
    {
     "data": {
      "text/plain": [
       "array([ 736,  908,  920,  681,  303,  595,  637,  488,  165,  202,  375,\n",
       "        575,  693,  325,  262,  857,   78,  628, 1560,  815,  189,  242,\n",
       "        411,   16,  181,  105])"
      ]
     },
     "execution_count": 240,
     "metadata": {},
     "output_type": "execute_result"
    }
   ],
   "source": [
    "# Here are the counts for the first letter position\n",
    "counts[:,0]"
   ]
  },
  {
   "cell_type": "code",
   "execution_count": 241,
   "id": "eccaae60",
   "metadata": {},
   "outputs": [
    {
     "data": {
      "text/plain": [
       "array([20, 23, 24, 18,  9, 15, 17, 13,  3,  6, 11, 14, 19, 10,  8, 22,  1,\n",
       "       16, 25, 21,  5,  7, 12,  0,  4,  2])"
      ]
     },
     "execution_count": 241,
     "metadata": {},
     "output_type": "execute_result"
    }
   ],
   "source": [
    "# Here are the ranks for the first position.  \n",
    "counts[:,0].argsort().argsort()\n",
    "\n",
    "# a -> 20th\n",
    "# c -> 24th\n",
    "# s -> 25th\n",
    "# t -> 21st\n",
    "# Looks like 's' is the most popular starting letter"
   ]
  },
  {
   "cell_type": "code",
   "execution_count": 278,
   "id": "dbfd236d",
   "metadata": {},
   "outputs": [],
   "source": [
    "# So make a matrix and compute the ranks\n",
    "ranks = np.zeros((5, 26))\n",
    "for i in range(5):\n",
    "    ranks[i] = counts[:,i].argsort().argsort()"
   ]
  },
  {
   "cell_type": "code",
   "execution_count": 283,
   "id": "dd208276",
   "metadata": {},
   "outputs": [
    {
     "data": {
      "text/plain": [
       "114.0"
      ]
     },
     "execution_count": 283,
     "metadata": {},
     "output_type": "execute_result"
    }
   ],
   "source": [
    "def score_word(counts, word):\n",
    "    score = 0\n",
    "    for position, l in enumerate(word):\n",
    "        letter_val = ord(l) - ord('a')\n",
    "        score += ranks[position][letter_val]\n",
    "    return score\n",
    "    \n",
    "score_word(counts, \"crane\")\n",
    "\n",
    "# c -> 25\n",
    "# r -> 13\n",
    "# a -> 16\n",
    "# n -> 10\n",
    "# e -> 22"
   ]
  },
  {
   "cell_type": "code",
   "execution_count": 284,
   "id": "455e2e6b",
   "metadata": {},
   "outputs": [
    {
     "data": {
      "text/plain": [
       "126.5"
      ]
     },
     "execution_count": 284,
     "metadata": {},
     "output_type": "execute_result"
    }
   ],
   "source": [
    "def score_word(counts, word):\n",
    "    letter_scores = np.zeros(5)\n",
    "    for position, l in enumerate(word):\n",
    "        letter_val = ord(l) - ord('a')            \n",
    "        letter_scores[position] = ranks[position][letter_val]\n",
    "        \n",
    "    weights = np.array([1.5, 1, .75, .75, 1.5])\n",
    "    letter_scores *= weights\n",
    "    return letter_scores.sum()\n",
    "    \n",
    "score_word(counts, \"crane\")\n"
   ]
  },
  {
   "cell_type": "code",
   "execution_count": 274,
   "id": "d0fab081",
   "metadata": {},
   "outputs": [
    {
     "data": {
      "text/plain": [
       "114.0"
      ]
     },
     "execution_count": 274,
     "metadata": {},
     "output_type": "execute_result"
    }
   ],
   "source": [
    "\n"
   ]
  },
  {
   "cell_type": "code",
   "execution_count": 285,
   "id": "7683d3d3",
   "metadata": {},
   "outputs": [],
   "source": [
    "# Score each word, skip any words with repeated letters\n",
    "words_with_scores = [(score_word(counts, w), w) for w in words if len(set(w)) == 5]"
   ]
  },
  {
   "cell_type": "code",
   "execution_count": 286,
   "id": "eb1faf29",
   "metadata": {},
   "outputs": [],
   "source": [
    "words_with_scores.sort(key=lambda x: x[0])"
   ]
  },
  {
   "cell_type": "code",
   "execution_count": 287,
   "id": "e6293b75",
   "metadata": {},
   "outputs": [
    {
     "data": {
      "text/plain": [
       "[(131.25, 'coals'),\n",
       " (131.5, 'cains'),\n",
       " (131.5, 'carls'),\n",
       " (131.5, 'baits'),\n",
       " (131.5, 'cants'),\n",
       " (131.5, 'banes'),\n",
       " (131.5, 'saine'),\n",
       " (131.75, 'certs'),\n",
       " (132.0, 'boras'),\n",
       " (132.0, 'coate'),\n",
       " (132.0, 'cones'),\n",
       " (132.0, 'coits'),\n",
       " (132.0, 'boats'),\n",
       " (132.25, 'pares'),\n",
       " (132.25, 'carns'),\n",
       " (132.25, 'carte'),\n",
       " (132.25, 'cires'),\n",
       " (132.25, 'sared'),\n",
       " (132.75, 'bores'),\n",
       " (133.0, 'canes'),\n",
       " (133.5, 'coats'),\n",
       " (133.75, 'bares'),\n",
       " (133.75, 'carts'),\n",
       " (134.25, 'cores'),\n",
       " (135.25, 'cares')]"
      ]
     },
     "execution_count": 287,
     "metadata": {},
     "output_type": "execute_result"
    }
   ],
   "source": [
    "words_with_scores[-25:]"
   ]
  }
 ],
 "metadata": {
  "kernelspec": {
   "display_name": "Python 3 (ipykernel)",
   "language": "python",
   "name": "python3"
  },
  "language_info": {
   "codemirror_mode": {
    "name": "ipython",
    "version": 3
   },
   "file_extension": ".py",
   "mimetype": "text/x-python",
   "name": "python",
   "nbconvert_exporter": "python",
   "pygments_lexer": "ipython3",
   "version": "3.8.1"
  }
 },
 "nbformat": 4,
 "nbformat_minor": 5
}
